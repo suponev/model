{
  "nbformat": 4,
  "nbformat_minor": 0,
  "metadata": {
    "colab": {
      "name": "Untitled1.ipynb",
      "version": "0.3.2",
      "provenance": [],
      "include_colab_link": true
    },
    "kernelspec": {
      "name": "python3",
      "display_name": "Python 3"
    }
  },
  "cells": [
    {
      "cell_type": "markdown",
      "metadata": {
        "id": "view-in-github",
        "colab_type": "text"
      },
      "source": [
        "<a href=\"https://colab.research.google.com/github/suponev/model/blob/master/main.ipynb\" target=\"_parent\"><img src=\"https://colab.research.google.com/assets/colab-badge.svg\" alt=\"Open In Colab\"/></a>"
      ]
    },
    {
      "cell_type": "markdown",
      "metadata": {
        "id": "9JqW2DXPaVSY",
        "colab_type": "text"
      },
      "source": [
        ""
      ]
    },
    {
      "cell_type": "code",
      "metadata": {
        "id": "26QFyx8hZ0c5",
        "colab_type": "code",
        "outputId": "8a0a6c78-fa46-4ec2-e0a0-b12f2e598ebc",
        "colab": {
          "base_uri": "https://localhost:8080/",
          "height": 589
        }
      },
      "source": [
        "import random\n",
        "import numpy as np \n",
        "import matplotlib.pyplot as plt\n",
        "\n",
        "# Сигма\n",
        "sig = 1\n",
        "\n",
        "# Константа h\n",
        "h= 1\n",
        "\n",
        "# Массив значений x\n",
        "x = np.arange(-20, 20 , 0.01);\n",
        "\n",
        "# Задание сигнала\n",
        "def signal(x):\n",
        "    return 5*np.exp(-(x+2)**2/(2*sig**2))-4*np.exp(-(x-4)**2/(2*sig**2))\n",
        "  \n",
        "# Задание аппроксимирующей функции\n",
        "def phi(x):\n",
        "    return np.exp(-(x)**2/(2*sig**2))  \n",
        "  \n",
        "# Расчет мемента k (для исходного сигнала) \n",
        "def mu(x,k):\n",
        "    return signal(x)*np.exp(-1j*x*k*h)\n",
        "  \n",
        "# Расчет alpha (для аппрокимирующей функции \n",
        "def alpha(x,k):\n",
        "    return np.exp(-1j*h*k)*phi(x)\n",
        "  \n",
        "# Функция вывода массива\n",
        "def printarr(arr , name):\n",
        "    print(name)\n",
        "    for i in range(len(arr)):\n",
        "      print(arr[i])\n",
        "    print('')\n",
        "\n",
        "b = []\n",
        "for k in [0,1,2,3]:\n",
        "    #комплексные моменты исходного сигнала\n",
        "    v = np.trapz(mu(x,k), x);\n",
        "    l = v/np.trapz(alpha(x,k), x);\n",
        "    b.append(l);\n",
        "# print(b);\n",
        "\n",
        "q1 = (b[1] * b[2] - b[0] * b[3]) / (b[1] * b[1] - b[0] * b[2]);\n",
        "q0 = (b[1] * b[3] - b[2] * b[2]) / (b[1] * b[1] - b[0] * b[2]);\n",
        "D = q1 * q1 - 4 * (-q0);\n",
        "sqrt_D = np.sqrt(D);\n",
        "\n",
        "m=[0,0] \n",
        "A=[0,0]\n",
        "\n",
        "m[0] = (q1 - sqrt_D) / 2;\n",
        "m[1] = (q1 + sqrt_D) / 2;\n",
        "\n",
        "A[0] = (b[1] - b[0] * m[1]) / (m[0] - m[1]);\n",
        "A[1]= b[0] - A[0];\n",
        "\n",
        "printarr(A,'Массив А')\n",
        "\n",
        "sp =np.fft.fft(signal(x))\n",
        "\n",
        "# plt.plot(x, sp.real)\n",
        "\n",
        "plt.plot(x , signal(x) )\n",
        "plt.show()\n",
        "\n",
        "plt.plot(x , sp.real)\n",
        "plt.show()\n",
        "\n",
        "\n"
      ],
      "execution_count": 7,
      "outputs": [
        {
          "output_type": "stream",
          "text": [
            "Массив А\n",
            "(-0.628328946236288-0.9590310385449999j)\n",
            "(1.6283289462362878+0.9590310385449999j)\n",
            "\n"
          ],
          "name": "stdout"
        },
        {
          "output_type": "display_data",
          "data": {
            "image/png": "[encoded data removed]",
            "text/plain": [
              "<Figure size 432x288 with 1 Axes>"
            ]
          },
          "metadata": {
            "tags": []
          }
        },
        {
          "output_type": "display_data",
          "data": {
            "image/png": "[encoded data removed]",
            "text/plain": [
              "<Figure size 432x288 with 1 Axes>"
            ]
          },
          "metadata": {
            "tags": []
          }
        }
      ]
    },
    {
      "cell_type": "code",
      "metadata": {
        "id": "iVNvDktseoFq",
        "colab_type": "code",
        "colab": {}
      },
      "source": [
        ""
      ],
      "execution_count": 0,
      "outputs": []
    }
  ]
}