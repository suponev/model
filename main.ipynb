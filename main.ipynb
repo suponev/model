{
  "nbformat": 4,
  "nbformat_minor": 0,
  "metadata": {
    "colab": {
      "name": "Untitled1.ipynb",
      "version": "0.3.2",
      "provenance": [],
      "include_colab_link": true
    },
    "kernelspec": {
      "name": "python3",
      "display_name": "Python 3"
    }
  },
  "cells": [
    {
      "cell_type": "markdown",
      "metadata": {
        "id": "view-in-github",
        "colab_type": "text"
      },
      "source": [
        "<a href=\"https://colab.research.google.com/github/suponev/model/blob/master/main.ipynb\" target=\"_parent\"><img src=\"https://colab.research.google.com/assets/colab-badge.svg\" alt=\"Open In Colab\"/></a>"
      ]
    },
    {
      "cell_type": "markdown",
      "metadata": {
        "id": "9JqW2DXPaVSY",
        "colab_type": "text"
      },
      "source": [
        ""
      ]
    },
    {
      "cell_type": "code",
      "metadata": {
        "id": "26QFyx8hZ0c5",
        "colab_type": "code",
        "outputId": "7cf30330-bdb6-48f2-addf-bee722989097",
        "colab": {
          "base_uri": "https://localhost:8080/",
          "height": 490
        }
      },
      "source": [
        "import random\n",
        "import numpy as np \n",
        "import matplotlib.pyplot as plt\n",
        "\n",
        "# Сигма\n",
        "sig = 1\n",
        "\n",
        "# Константа h\n",
        "h = 0.5\n",
        "\n",
        "# Массив значений x\n",
        "x = np.arange(-20, 20 , 0.01);\n",
        "\n",
        "\n",
        "# Задание сигнала\n",
        "def rnd(x):\n",
        "    return \n",
        "  \n",
        "# Задание сигнала\n",
        "def signal(x):\n",
        "    return 5*x*x*np.exp(-(x+2)**2/(2*sig**2))-4*x*x*np.exp(-(x-4)**2/(2*sig**2))\n",
        "  \n",
        "# Задание аппроксимирующей функции\n",
        "def phi(x):\n",
        "    return np.exp(-(x)**2/(2*sig**2)) \n",
        "# Задание аппроксимирующей функции\n",
        "def model(x , A ,m):\n",
        "    return A[0]*phi(x+m[0])+A[1]*phi(x+m[1])#+A[0]*phi(x-m[0])\n",
        "  \n",
        "# Расчет мемента k (для исходного сигнала) \n",
        "def mu(signal,k):\n",
        "    return signal*np.exp(-1j*k*h*x)\n",
        "  \n",
        "# Расчет alpha (для аппрокимирующей функции)\n",
        "def alpha(x,k):\n",
        "    return phi(x)*np.exp(-1j*h*k*x)\n",
        "  \n",
        "# Функция вывода массива\n",
        "def printarr(arr , name):\n",
        "    print(name)\n",
        "    for i in range(len(arr)):\n",
        "      print(arr[i])\n",
        "    print('')\n",
        "\n",
        "\n",
        "# Генерируем шум  \n",
        "noise = np.random.normal(0, 1, len(x))\n",
        "\n",
        "s = signal(x) +noise\n",
        "\n",
        "b = []\n",
        "for k in [0,1,2,3]:\n",
        "    #комплексные моменты исходного сигнала\n",
        "    muk = np.trapz(mu(s,k), x);\n",
        "    bk = muk/np.trapz(alpha(x,k), x);\n",
        "    b.append(bk);\n",
        "# print(b);\n",
        "\n",
        "q1 = (b[1] * b[2] - b[0] * b[3]) / (b[1] * b[1] - b[0] * b[2]);\n",
        "q0 = (b[1] * b[3] - b[2] * b[2]) / (b[1] * b[1] - b[0] * b[2]);\n",
        "D = q1 * q1 - 4 * (-q0);\n",
        "sqrt_D = np.sqrt(D);\n",
        "\n",
        "M=[0,0] \n",
        "A=[0,0]\n",
        "m=[0,0] \n",
        "\n",
        "M[0] = (q1 - sqrt_D) / 2;\n",
        "M[1] = (q1 + sqrt_D) / 2;\n",
        "\n",
        "\n",
        "printarr(M,'Массив M')\n",
        "\n",
        "A[0] = (b[1] - b[0] * M[1]) / (M[0] - M[1]);\n",
        "A[1]= b[0] - A[0];\n",
        "\n",
        "printarr(A,'Массив А')\n",
        "\n",
        "m[0]=np.log(M[0])/h/1j\n",
        "m[1]=np.log(M[1])/h/1j\n",
        "print(\"Массив m (сдвиги)\")\n",
        "print(m[0])\n",
        "print(m[1])\n",
        "\n",
        "m[0]=np.log(M[0])/h/1j\n",
        "m[1]=np.log(M[1])/h/1j\n",
        "\n",
        "# plt.plot(x, sp.real)\n",
        "plt.plot(x , s )\n",
        "plt.plot(x , model(x , A,m) )\n",
        "\n",
        "plt.show()\n",
        "\n",
        "\n",
        "\n"
      ],
      "execution_count": 36,
      "outputs": [
        {
          "output_type": "stream",
          "text": [
            "Массив M\n",
            "(-0.6430861498101378-0.8360430450210418j)\n",
            "(0.21488024456452448+1.1215641016710824j)\n",
            "\n",
            "Массив А\n",
            "(-65.21003343610394+0.024733170454391842j)\n",
            "(22.31619537891983-0.024733170454391842j)\n",
            "\n",
            "Массив m (сдвиги)\n",
            "(-4.452948008608193-0.10663469583049524j)\n",
            "(2.763000837093744-0.2654974690526125j)\n"
          ],
          "name": "stdout"
        },
        {
          "output_type": "stream",
          "text": [
            "/usr/local/lib/python3.6/dist-packages/numpy/core/numeric.py:538: ComplexWarning: Casting complex values to real discards the imaginary part\n",
            "  return array(a, dtype, copy=False, order=order)\n"
          ],
          "name": "stderr"
        },
        {
          "output_type": "display_data",
          "data": {
            "image/png": "[encoded data removed]",
            "text/plain": [
              "<Figure size 432x288 with 1 Axes>"
            ]
          },
          "metadata": {
            "tags": []
          }
        }
      ]
    },
    {
      "cell_type": "code",
      "metadata": {
        "id": "iVNvDktseoFq",
        "colab_type": "code",
        "colab": {}
      },
      "source": [
        ""
      ],
      "execution_count": 0,
      "outputs": []
    }
  ]
}