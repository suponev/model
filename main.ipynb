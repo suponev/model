{
  "nbformat": 4,
  "nbformat_minor": 0,
  "metadata": {
    "colab": {
      "name": "Untitled1.ipynb",
      "version": "0.3.2",
      "provenance": [],
      "include_colab_link": true
    },
    "kernelspec": {
      "name": "python3",
      "display_name": "Python 3"
    }
  },
  "cells": [
    {
      "cell_type": "markdown",
      "metadata": {
        "id": "view-in-github",
        "colab_type": "text"
      },
      "source": [
        "<a href=\"https://colab.research.google.com/github/suponev/model/blob/master/main.ipynb\" target=\"_parent\"><img src=\"https://colab.research.google.com/assets/colab-badge.svg\" alt=\"Open In Colab\"/></a>"
      ]
    },
    {
      "cell_type": "markdown",
      "metadata": {
        "id": "9JqW2DXPaVSY",
        "colab_type": "text"
      },
      "source": [
        ""
      ]
    },
    {
      "cell_type": "code",
      "metadata": {
        "id": "26QFyx8hZ0c5",
        "colab_type": "code",
        "outputId": "ff8fb747-4521-4cf9-f14e-580a89645617",
        "colab": {
          "base_uri": "https://localhost:8080/",
          "height": 844
        }
      },
      "source": [
        "import random\n",
        "import numpy as np \n",
        "import matplotlib.pyplot as plt\n",
        "\n",
        "# Сигма\n",
        "sig = 1\n",
        "\n",
        "# Константа h\n",
        "h = 1\n",
        "\n",
        "# Массив значений x\n",
        "x = np.arange(-20, 20 , 0.005);\n",
        "\n",
        "# Задание сигнала\n",
        "def signal(x):\n",
        "    return 5*np.exp(-(x+2)**2/(2*sig**2))-4*np.exp(-(x-4)**2/(2*sig**2))\n",
        "  \n",
        "# Задание аппроксимирующей функции\n",
        "def phi(x):\n",
        "    return np.exp(-(x)**2/(2*sig**2))  \n",
        "  \n",
        "# Расчет мемента k (для исходного сигнала) \n",
        "def mu(x,k):\n",
        "    return signal(x)*np.exp(-1j*k*h)\n",
        "  \n",
        "# Расчет alpha (для аппрокимирующей функции \n",
        "def alpha(x,k):\n",
        "    return phi(x)*np.exp(-1j*h*k)\n",
        "  \n",
        "# Функция вывода массива\n",
        "def printarr(arr , name):\n",
        "    print(name)\n",
        "    for i in range(len(arr)):\n",
        "      print(arr[i])\n",
        "    print('')\n",
        "\n",
        "b = []\n",
        "for k in [0,1,2,3]:\n",
        "    #комплексные моменты исходного сигнала\n",
        "    print(mu(x,k))\n",
        "    muk = np.trapz(mu(x,k), x);\n",
        "    bk = muk/np.trapz(alpha(x,k), x);\n",
        "    b.append(bk);\n",
        "# print(b);\n",
        "\n",
        "q1 = (b[1] * b[2] - b[0] * b[3]) / (b[1] * b[1] - b[0] * b[2]);\n",
        "q0 = (b[1] * b[3] - b[2] * b[2]) / (b[1] * b[1] - b[0] * b[2]);\n",
        "D = q1 * q1 - 4 * (-q0);\n",
        "sqrt_D = np.sqrt(D);\n",
        "\n",
        "m=[0,0] \n",
        "A=[0,0]\n",
        "\n",
        "m[0] = (q1 - sqrt_D) / 2;\n",
        "m[1] = (q1 + sqrt_D) / 2;\n",
        "\n",
        "A[0] = (b[1] - b[0] * m[1]) / (m[0] - m[1]);\n",
        "A[1]= b[0] - A[0];\n",
        "\n",
        "printarr(A,'Массив А')\n",
        "\n",
        "sp =np.fft.fft(signal(x))\n",
        "\n",
        "# plt.plot(x, sp.real)\n",
        "\n",
        "plt.plot(x , signal(x) )\n",
        "plt.show()\n",
        "\n",
        "plt.plot(x , sp.real)\n",
        "plt.show()\n",
        "\n",
        "\n"
      ],
      "execution_count": 10,
      "outputs": [
        {
          "output_type": "stream",
          "text": [
            "[ 2.20426567e-70+0.j  2.41182066e-70+0.j  2.63885318e-70+0.j ...\n",
            " -1.30782045e-55+0.j -1.20734590e-55+0.j -1.11456253e-55+0.j]\n",
            "\n",
            "[ 1.19096982e-70-1.85482560e-70j  1.30311226e-70-2.02947710e-70j\n",
            "  1.42577846e-70-2.22051839e-70j ... -7.06618407e-56+1.10049297e-55j\n",
            " -6.52331772e-56+1.01594654e-55j -6.02200704e-56+9.37872028e-56j]\n",
            "\n",
            "[-9.17298184e-71-2.00433310e-70j -1.00367154e-70-2.19306232e-70j\n",
            " -1.09815040e-70-2.39950241e-70j ...  5.44245345e-56+1.18919777e-55j\n",
            "  5.02433175e-56+1.09783652e-55j  4.63821670e-56+1.01346884e-55j]\n",
            "\n",
            "[-2.18220647e-70-3.11065989e-71j -2.38768435e-70-3.40356151e-71j\n",
            " -2.61244485e-70-3.72394982e-71j ...  1.29473244e-55+1.84559633e-56j\n",
            "  1.19526338e-55+1.70380663e-56j  1.10340854e-55+1.57287073e-56j]\n",
            "\n",
            "Массив А\n",
            "(0.007721590423329322-0.012542655503486433j)\n",
            "(0.9922784095766704+0.012542655503486433j)\n",
            "\n"
          ],
          "name": "stdout"
        },
        {
          "output_type": "display_data",
          "data": {
            "image/png": "[encoded data removed]",
            "text/plain": [
              "<Figure size 432x288 with 1 Axes>"
            ]
          },
          "metadata": {
            "tags": []
          }
        },
        {
          "output_type": "display_data",
          "data": {
            "image/png": "[encoded data removed]",
            "text/plain": [
              "<Figure size 432x288 with 1 Axes>"
            ]
          },
          "metadata": {
            "tags": []
          }
        }
      ]
    },
    {
      "cell_type": "code",
      "metadata": {
        "id": "iVNvDktseoFq",
        "colab_type": "code",
        "colab": {}
      },
      "source": [
        ""
      ],
      "execution_count": 0,
      "outputs": []
    }
  ]
}