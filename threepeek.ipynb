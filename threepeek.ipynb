{
  "nbformat": 4,
  "nbformat_minor": 0,
  "metadata": {
    "colab": {
      "name": "Untitled1.ipynb",
      "version": "0.3.2",
      "provenance": [],
      "include_colab_link": true
    },
    "kernelspec": {
      "name": "python3",
      "display_name": "Python 3"
    }
  },
  "cells": [
    {
      "cell_type": "markdown",
      "metadata": {
        "id": "view-in-github",
        "colab_type": "text"
      },
      "source": [
        "<a href=\"https://colab.research.google.com/github/suponev/model/blob/master/threepeek.ipynb\" target=\"_parent\"><img src=\"https://colab.research.google.com/assets/colab-badge.svg\" alt=\"Open In Colab\"/></a>"
      ]
    },
    {
      "cell_type": "markdown",
      "metadata": {
        "id": "9JqW2DXPaVSY",
        "colab_type": "text"
      },
      "source": [
        ""
      ]
    },
    {
      "cell_type": "code",
      "metadata": {
        "id": "26QFyx8hZ0c5",
        "colab_type": "code",
        "outputId": "cdf93d16-5fea-42fc-fe07-6c89e7294146",
        "colab": {
          "base_uri": "https://localhost:8080/",
          "height": 541
        }
      },
      "source": [
        "import random\n",
        "import numpy as np \n",
        "import matplotlib.pyplot as plt\n",
        "\n",
        "# Сигма\n",
        "sig = 1\n",
        "\n",
        "# Константа h\n",
        "h = 0.2\n",
        "\n",
        "# Массив значений x\n",
        "x = np.arange(-50, 50 , 0.001);\n",
        "\n",
        "\n",
        "# Задание сигнала\n",
        "def rnd(x):\n",
        "    return \n",
        "  \n",
        "# Задание сигнала\n",
        "def signal(x):\n",
        "    return 5*np.exp(-(x+2)**2/(2*sig**2))-4*np.exp(-(x-4)**2/(2*sig**2))-17*np.exp(-(x-20)**2/(2*sig**2))\n",
        "  \n",
        "# Задание аппроксимирующей функции\n",
        "def phi(x):\n",
        "    return np.exp(-(x)**2/(2*sig**2)) \n",
        "# Задание аппроксимирующей функции\n",
        "def model(x , A ,m):\n",
        "    return A[0]*phi(x+m[0])+A[1]*phi(x+m[1])+A[2]*phi(x+m[2])\n",
        "  \n",
        "# Расчет мемента k (для исходного сигнала) \n",
        "def mu(signal,k):\n",
        "    return signal*np.exp(-1j*k*h*x)\n",
        "  \n",
        "# Расчет alpha (для аппрокимирующей функции)\n",
        "def alpha(x,k):\n",
        "    return phi(x)*np.exp(-1j*h*k*x)\n",
        "  \n",
        "# Функция вывода массива\n",
        "def printarr(arr , name):\n",
        "    print(name)\n",
        "    for i in range(len(arr)):\n",
        "      print(arr[i])\n",
        "    print('')\n",
        "def calcM(b):\n",
        "    det = b[2] * b[2] * b[2] + b[1] * b[1] * b[4] + b[3] * b[3] * b[0] - b[0] * b[2] * b[4] - 2 * b[1] * b[2] * b[3];\n",
        "    det1 = b[3] * b[2] * b[2] + b[1] * b[1] * b[5] + b[4] * b[3] * b[0] - b[0] * b[2] * b[5] - b[4] * b[1] * b[2] - b[1] * b[3] * b[3];\n",
        "    det2 = b[2] * b[2] * b[4] + b[3] * b[5] * b[0] + b[3] * b[1] * b[4] - b[0] * b[4] * b[4] - b[5] * b[2] * b[1] - b[3] * b[3] * b[2];\n",
        "    det3 = b[2] * b[2] * b[5] + b[1] * b[4] * b[4] + b[3] * b[3] * b[3] - b[3] * b[2] * b[4] - b[3] * b[4] * b[2] - b[3] * b[1] * b[5];\n",
        "    c2 = det1 / det;\n",
        "    c1 = det2 / det;\n",
        "    c0 = det3 / det;\n",
        "    bb = -c2\n",
        "    c = -c1\n",
        "    d = -c0\n",
        "\n",
        "    p = c2\n",
        "    q = c1\n",
        "    r = c0\n",
        "    m=[0,0,0]\n",
        "    p1 = c - bb * bb / 3;\n",
        "    q1 = (2 * bb * bb * bb / 27) - (bb * c / 3) + d;\n",
        "    Q = (((p1 / 3.0)** 3)) + ((q1 / 2.0)** 2)\n",
        "\n",
        "    phi = 0\n",
        "\n",
        "    rho = np.sqrt((q1 / 2) * (q1 / 2) + np.abs(Q));\n",
        "    if (q1 < 0):\n",
        "        phi = np.arctan(-2 * np.sqrt(np.abs(Q)) / q1)\n",
        "    else:\n",
        "        if (q1 > 0):\n",
        "            phi = np.pi - np.arctan(2 * np.sqrt(np.abs(Q)) / q1);\n",
        "        else:\n",
        "            phi = Math.PI / 2;\n",
        "    m[1] = 2 * np.exp(np.log(rho) / 3) * np.cos(phi / 3) + p / 3;\n",
        "    m[2] = 2 * np.exp(np.log(rho) / 3) * np.cos(phi / 3 + 2 * np.pi / 3) + p / 3;\n",
        "    m[0] = 2 * np.exp(np.log(rho) / 3) * np.cos(phi / 3 + 4 * np.pi / 3) + p / 3;\n",
        "    return m\n",
        "\n",
        "# Генерируем шум  \n",
        "noise = np.random.normal(0, 1, len(x))\n",
        "\n",
        "s = signal(x) #+noise\n",
        "\n",
        "b = []\n",
        "for k in [0,1,2,3,4,5]:\n",
        "    #комплексные моменты исходного сигнала\n",
        "    muk = np.trapz(mu(s,k), x);\n",
        "    bk = muk/np.trapz(alpha(x,k), x);\n",
        "    b.append(bk);\n",
        "# print(b);\n",
        "\n",
        "M=[0,0,0] \n",
        "A=[0,0,0]\n",
        "m=[0,0,0] \n",
        "\n",
        "M = calcM(b)\n",
        "\n",
        "printarr(M,'Массив M')\n",
        "\n",
        "detA = np.linalg.det(np.array([[1, 1, 1], [M[0], M[1], M[2]], [M[0] * M[0], M[1] * M[1], M[2] * M[2]]]));\n",
        "A[0] = np.linalg.det(np.array([[b[0], 1, 1], [b[1], M[1], M[2]],[ b[2],M[1] * M[1], M[2] * M[2]]])) / detA;\n",
        "A[1] = np.linalg.det(np.array([[1, b[0], 1], [M[0], b[1], M[2]],[ M[0] * M[0], b[2], M[2] * M[2]]])) / detA;\n",
        "A[2] = np.linalg.det(np.array([[1, 1, b[0]], [M[0], M[1], b[1]],[ M[0] * M[0], M[1] * M[1], b[2]]])) / detA;\n",
        "\n",
        "printarr(A,'Массив А')\n",
        "\n",
        "m[0]=np.log(M[0])/h/1j\n",
        "m[1]=np.log(M[1])/h/1j\n",
        "m[2]=np.log(M[2])/h/1j\n",
        "\n",
        "print(\"Массив m (сдвиги)\")\n",
        "print(m[0])\n",
        "print(m[1])\n",
        "print(m[2])\n",
        "\n",
        "# plt.plot(x, sp.real)\n",
        "plt.plot(x , s )\n",
        "plt.plot(x , model(x , A,m) )\n",
        "\n",
        "plt.show()\n",
        "\n",
        "\n",
        "\n"
      ],
      "execution_count": 16,
      "outputs": [
        {
          "output_type": "stream",
          "text": [
            "Массив M\n",
            "(0.5591808617174452-0.35489908320835895j)\n",
            "(1.3056664150201331+0.24713844481742195j)\n",
            "(-0.9007231942511363+0.5366253851079954j)\n",
            "\n",
            "Массив А\n",
            "(-10.132263314869288-4.7451413397584785j)\n",
            "(7.90743763678613+0.3264474071338518j)\n",
            "(-13.77517432191685+4.418693932624629j)\n",
            "\n",
            "Массив m (сдвиги)\n",
            "(-2.8276381133202992+2.060210024239016j)\n",
            "(0.9353417519093199-1.4215693567676333j)\n",
            "(13.021440004064107-0.2366137078203288j)\n"
          ],
          "name": "stdout"
        },
        {
          "output_type": "stream",
          "text": [
            "/usr/local/lib/python3.6/dist-packages/numpy/core/numeric.py:538: ComplexWarning: Casting complex values to real discards the imaginary part\n",
            "  return array(a, dtype, copy=False, order=order)\n"
          ],
          "name": "stderr"
        },
        {
          "output_type": "display_data",
          "data": {
            "image/png": "[encoded data removed]",
            "text/plain": [
              "<Figure size 432x288 with 1 Axes>"
            ]
          },
          "metadata": {
            "tags": []
          }
        }
      ]
    }
  ]
}